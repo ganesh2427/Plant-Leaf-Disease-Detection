{
 "cells": [
  {
   "cell_type": "code",
   "execution_count": 2,
   "id": "3e4baf37-69f8-49db-95ab-40ae02c4ca6a",
   "metadata": {},
   "outputs": [],
   "source": [
    "import tensorflow as tf\n",
    "from tensorflow.keras.layers import Reshape,Dense,Input,GlobalMaxPooling2D,GlobalAveragePooling2D\n",
    "from tensorflow.keras.layers import Activation,Concatenate,Conv2D,Multiply"
   ]
  },
  {
   "cell_type": "markdown",
   "id": "e33b83da-af2c-48a5-8588-795b7e5cb98f",
   "metadata": {},
   "source": [
    "# channel attention module"
   ]
  },
  {
   "cell_type": "code",
   "execution_count": 8,
   "id": "a6fb4f8c-b5a8-4bd9-bf83-21b8755528b2",
   "metadata": {},
   "outputs": [],
   "source": [
    "def Channel_attention_module(x,ratio=8):  #x is input feature map\n",
    "    b,_,_,channel = x.shape\n",
    "    ##shared layers\n",
    "    l1 = Dense(channel//ratio,activation=\"relu\",use_bias=False)\n",
    "    l2 = Dense(channel,use_bias=False)\n",
    "    \n",
    "    ##Global average pooling\n",
    "    X1=GlobalAveragePooling2D()(x)\n",
    "    X1=l1(X1)\n",
    "    X1=l2(X1)\n",
    "\n",
    "    ##Global max pooling\n",
    "    X2=GlobalAveragePooling2D()(x)\n",
    "    X2=l1(X2)\n",
    "    X2=l2(X2)\n",
    "    \n",
    "    ##add both and apply sigmoid\n",
    "    features = X1+X2\n",
    "    features = Activation(\"sigmoid\")(features)\n",
    "    features = Multiply()([x,features])\n",
    "\n",
    "    return features\n",
    "    "
   ]
  },
  {
   "cell_type": "markdown",
   "id": "41d19f53-ac78-4d5f-a678-8e0589c4b30d",
   "metadata": {},
   "source": [
    "# spatial attention module\n",
    "paper link https://www.youtube.com/redirect?event=video_description&redir_token=QUFFLUhqbVJ6UG82QlBSMThURkRNVjVKSy14YUhsTjBqQXxBQ3Jtc0tuMk44MGVvdUhHaWVJWUtqR2MyWjdFTmRvRzNNTVdJdkJMWDB5bjI3TW1wcXRiLTdvQmZOQTMyMzRNWjgwbG1GOHFmVHc1NUVnWnRKNE5NRnlhblppZE1pM2Jld2dmYTRqMVVyUzV5ZkxzVGxkN2g0RQ&q=https%3A%2F%2Farxiv.org%2Fabs%2F1807.06521&v=O-eVuz5TU2E"
   ]
  },
  {
   "cell_type": "code",
   "execution_count": 9,
   "id": "5481d1c1-1020-45b0-9369-f4540cfd06a8",
   "metadata": {},
   "outputs": [],
   "source": [
    "def spatial_attention_module(x):\n",
    "    ##average pooling\n",
    "    X1 = tf.reduce_mean(x,axis=-1)\n",
    "    X1 = tf.expand_dims(X1,axis=-1)\n",
    "\n",
    "    ##max pooling\n",
    "    X2 = tf.reduce_max(x,axis=-1)\n",
    "    X2 = tf.expand_dims(X2,axis=-1)\n",
    "    \n",
    "    ##concatenate\n",
    "    features = Concatenate()([X1,X2])\n",
    "\n",
    "    #conv layer\n",
    "    features = Conv2D(1,kernel_size=7,padding='same',activation='sigmoid')(features)\n",
    "    features = Multiply()([x,features])\n",
    "\n",
    "    return features"
   ]
  },
  {
   "cell_type": "markdown",
   "id": "e5408c4f-5107-49b4-a262-3b849a962dad",
   "metadata": {},
   "source": [
    "# cbam"
   ]
  },
  {
   "cell_type": "code",
   "execution_count": 10,
   "id": "5f11dc03-7276-48fd-85d0-804b6189c1ff",
   "metadata": {},
   "outputs": [],
   "source": [
    "def cbam(x):\n",
    "    x = Channel_attention_module(x)\n",
    "    x = spatial_attention_module(x)\n",
    "    return x"
   ]
  },
  {
   "cell_type": "code",
   "execution_count": 11,
   "id": "24eb3dc3-b882-454b-ae15-0fb0566790ba",
   "metadata": {},
   "outputs": [
    {
     "name": "stdout",
     "output_type": "stream",
     "text": [
      "(None, 128, 128, 32)\n"
     ]
    }
   ],
   "source": [
    "inputs = Input(shape=(128,128,32))\n",
    "y = cbam(inputs)\n",
    "print(y.shape)"
   ]
  },
  {
   "cell_type": "code",
   "execution_count": null,
   "id": "7fea4599-f351-4519-91b3-a4018e8b809b",
   "metadata": {},
   "outputs": [],
   "source": []
  },
  {
   "cell_type": "code",
   "execution_count": null,
   "id": "a6a7b7a5-9897-4d0b-bd29-c8ee91e8187a",
   "metadata": {},
   "outputs": [],
   "source": []
  }
 ],
 "metadata": {
  "kernelspec": {
   "display_name": "Python 3 (ipykernel)",
   "language": "python",
   "name": "python3"
  },
  "language_info": {
   "codemirror_mode": {
    "name": "ipython",
    "version": 3
   },
   "file_extension": ".py",
   "mimetype": "text/x-python",
   "name": "python",
   "nbconvert_exporter": "python",
   "pygments_lexer": "ipython3",
   "version": "3.11.7"
  }
 },
 "nbformat": 4,
 "nbformat_minor": 5
}
