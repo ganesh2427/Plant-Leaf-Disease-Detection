{
 "cells": [
  {
   "cell_type": "code",
   "execution_count": 1,
   "id": "083b4b48-250d-492a-96f8-f64187948e03",
   "metadata": {},
   "outputs": [],
   "source": [
    "import tensorflow as tf\n",
    "import matplotlib.pyplot as plt\n",
    "import pandas as pd\n",
    "import seaborn as sns"
   ]
  },
  {
   "cell_type": "code",
   "execution_count": 2,
   "id": "893435c9-689d-46ed-a13e-e46ac7684443",
   "metadata": {},
   "outputs": [
    {
     "name": "stdout",
     "output_type": "stream",
     "text": [
      "Found 42297 files belonging to 39 classes.\n"
     ]
    }
   ],
   "source": [
    "training_set = tf.keras.utils.image_dataset_from_directory(\n",
    "    'train',\n",
    "    labels=\"inferred\",\n",
    "    label_mode=\"categorical\",\n",
    "    class_names=None,\n",
    "    color_mode=\"rgb\",\n",
    "    batch_size=64,\n",
    "    image_size=(227,227),\n",
    "    shuffle=True,\n",
    "    seed=None,\n",
    "    validation_split=None,\n",
    "    subset=None,\n",
    "    interpolation=\"bilinear\",\n",
    "    follow_links=False,\n",
    "    crop_to_aspect_ratio=False\n",
    ")"
   ]
  },
  {
   "cell_type": "code",
   "execution_count": 3,
   "id": "86960225-867e-4efb-b96e-f7119c53bee9",
   "metadata": {},
   "outputs": [
    {
     "name": "stdout",
     "output_type": "stream",
     "text": [
      "Found 4713 files belonging to 39 classes.\n"
     ]
    }
   ],
   "source": [
    "validation_set = tf.keras.utils.image_dataset_from_directory(\n",
    "    'valid',\n",
    "    labels=\"inferred\",\n",
    "    label_mode=\"categorical\",\n",
    "    class_names=None,\n",
    "    color_mode=\"rgb\",\n",
    "    batch_size=64,\n",
    "    image_size=(227,227),\n",
    "    shuffle=True,\n",
    "    seed=None,\n",
    "    validation_split=None,\n",
    "    subset=None,\n",
    "    interpolation=\"bilinear\",\n",
    "    follow_links=False,\n",
    "    crop_to_aspect_ratio=False\n",
    ")"
   ]
  },
  {
   "cell_type": "code",
   "execution_count": 6,
   "id": "37ba9f2c-649d-44b1-82ff-82c2e3c12e4c",
   "metadata": {},
   "outputs": [
    {
     "name": "stdout",
     "output_type": "stream",
     "text": [
      "Model: \"sequential_1\"\n",
      "_________________________________________________________________\n",
      " Layer (type)                Output Shape              Param #   \n",
      "=================================================================\n",
      " conv2d_5 (Conv2D)           (None, 55, 55, 96)        34944     \n",
      "                                                                 \n",
      " max_pooling2d_3 (MaxPoolin  (None, 27, 27, 96)        0         \n",
      " g2D)                                                            \n",
      "                                                                 \n",
      " conv2d_6 (Conv2D)           (None, 27, 27, 256)       614656    \n",
      "                                                                 \n",
      " max_pooling2d_4 (MaxPoolin  (None, 13, 13, 256)       0         \n",
      " g2D)                                                            \n",
      "                                                                 \n",
      " conv2d_7 (Conv2D)           (None, 13, 13, 384)       885120    \n",
      "                                                                 \n",
      " conv2d_8 (Conv2D)           (None, 13, 13, 384)       1327488   \n",
      "                                                                 \n",
      " conv2d_9 (Conv2D)           (None, 13, 13, 256)       884992    \n",
      "                                                                 \n",
      " max_pooling2d_5 (MaxPoolin  (None, 6, 6, 256)         0         \n",
      " g2D)                                                            \n",
      "                                                                 \n",
      " flatten_1 (Flatten)         (None, 9216)              0         \n",
      "                                                                 \n",
      " dense_3 (Dense)             (None, 4096)              37752832  \n",
      "                                                                 \n",
      " dense_4 (Dense)             (None, 4096)              16781312  \n",
      "                                                                 \n",
      " dense_5 (Dense)             (None, 39)                159783    \n",
      "                                                                 \n",
      "=================================================================\n",
      "Total params: 58441127 (222.94 MB)\n",
      "Trainable params: 58441127 (222.94 MB)\n",
      "Non-trainable params: 0 (0.00 Byte)\n",
      "_________________________________________________________________\n"
     ]
    }
   ],
   "source": [
    "cnn = tf.keras.models.Sequential()\n",
    "\n",
    "cnn.add(tf.keras.layers.Conv2D(filters=96, kernel_size=(11,11), strides=(4,4), activation='relu', input_shape=(227,227,3)))\n",
    "cnn.add(tf.keras.layers.MaxPool2D(pool_size=(3,3), strides=(2,2)))\n",
    "\n",
    "cnn.add(tf.keras.layers.Conv2D(filters=256, kernel_size=(5,5), padding='same', activation='relu'))\n",
    "cnn.add(tf.keras.layers.MaxPooling2D(pool_size=(3,3), strides=(2,2)))\n",
    "\n",
    "cnn.add(tf.keras.layers.Conv2D(filters=384, kernel_size=(3,3), padding='same', activation='relu'))\n",
    "\n",
    "cnn.add(tf.keras.layers.Conv2D(filters=384, kernel_size=(3,3), padding='same', activation='relu'))\n",
    "\n",
    "cnn.add(tf.keras.layers.Conv2D(filters=256, kernel_size=(3,3), padding='same', activation='relu'))\n",
    "cnn.add(tf.keras.layers.MaxPooling2D(pool_size=(3,3), strides=(2,2)))\n",
    "\n",
    "cnn.add(tf.keras.layers.Flatten())\n",
    "\n",
    "cnn.add(tf.keras.layers.Dense(4096, activation='relu'))\n",
    "\n",
    "cnn.add(tf.keras.layers.Dense(4096, activation='relu'))\n",
    "\n",
    "cnn.add(tf.keras.layers.Dense(39, activation='softmax'))\n",
    "\n",
    "cnn.compile(optimizer=tf.keras.optimizers.legacy.Adam(\n",
    "    learning_rate=0.0001),loss='categorical_crossentropy',metrics=['accuracy'])\n",
    "\n",
    "cnn.summary()"
   ]
  },
  {
   "cell_type": "code",
   "execution_count": 8,
   "id": "e67b9add-84e5-4cbd-9999-353f5f2b0346",
   "metadata": {},
   "outputs": [
    {
     "name": "stdout",
     "output_type": "stream",
     "text": [
      "661/661 [==============================] - 1935s 3s/step - loss: 1.2015 - accuracy: 0.6670 - val_loss: 0.5916 - val_accuracy: 0.8112\n"
     ]
    }
   ],
   "source": [
    "training_history = cnn.fit(x=training_set,validation_data=validation_set,epochs=1)"
   ]
  },
  {
   "cell_type": "code",
   "execution_count": 9,
   "id": "d61239b0-ebde-49ca-bd65-09847e4d6c9e",
   "metadata": {},
   "outputs": [
    {
     "name": "stdout",
     "output_type": "stream",
     "text": [
      "661/661 [==============================] - 739s 1s/step - loss: 0.5423 - accuracy: 0.8277\n",
      "Training accuracy: 0.8277182579040527\n"
     ]
    }
   ],
   "source": [
    "#Training set Accuracy\n",
    "train_loss, train_acc = cnn.evaluate(training_set)\n",
    "print('Training accuracy:', train_acc)"
   ]
  },
  {
   "cell_type": "code",
   "execution_count": 10,
   "id": "cd06d9ba-07e1-4d13-9b85-97e345c0880a",
   "metadata": {},
   "outputs": [
    {
     "name": "stdout",
     "output_type": "stream",
     "text": [
      "74/74 [==============================] - 79s 1s/step - loss: 0.5916 - accuracy: 0.8112\n",
      "Validation accuracy: 0.8111606240272522\n"
     ]
    }
   ],
   "source": [
    "#Validation set Accuracy\n",
    "val_loss, val_acc = cnn.evaluate(validation_set)\n",
    "print('Validation accuracy:', val_acc)"
   ]
  },
  {
   "cell_type": "code",
   "execution_count": 11,
   "id": "3bc2c02a-1f17-45d0-a2f0-9f214844b8ab",
   "metadata": {},
   "outputs": [],
   "source": [
    "cnn.save('alexnet.keras')"
   ]
  },
  {
   "cell_type": "code",
   "execution_count": 12,
   "id": "7e5d3df9-76fe-4509-9eeb-0b03a6b1ed2b",
   "metadata": {},
   "outputs": [
    {
     "name": "stdout",
     "output_type": "stream",
     "text": [
      "Found 12313 files belonging to 39 classes.\n",
      "193/193 [==============================] - 195s 1s/step - loss: 1.0007 - accuracy: 0.7681\n",
      "Test accuracy: 0.7680500149726868\n"
     ]
    }
   ],
   "source": [
    "import tensorflow as tf\n",
    "\n",
    "# Load the saved model\n",
    "cnn = tf.keras.models.load_model('alexnet.keras')\n",
    "\n",
    "# Load the test dataset\n",
    "test_set = tf.keras.utils.image_dataset_from_directory(\n",
    "    'test',\n",
    "    labels=\"inferred\",\n",
    "    label_mode=\"categorical\",\n",
    "    class_names=None,\n",
    "    color_mode=\"rgb\",\n",
    "    batch_size=64,\n",
    "    image_size=(227, 227),\n",
    "    shuffle=False,  # No need to shuffle for testing\n",
    ")\n",
    "\n",
    "# Evaluate the model on the test dataset\n",
    "test_loss, test_acc = cnn.evaluate(test_set)\n",
    "print('Test accuracy:', test_acc)\n"
   ]
  },
  {
   "cell_type": "code",
   "execution_count": null,
   "id": "315ecaed-1512-4490-8e2a-07cd108b38ea",
   "metadata": {},
   "outputs": [],
   "source": []
  },
  {
   "cell_type": "code",
   "execution_count": null,
   "id": "bc8d60aa-4c3a-48ba-bc55-d620b7fddeb6",
   "metadata": {},
   "outputs": [],
   "source": []
  },
  {
   "cell_type": "code",
   "execution_count": null,
   "id": "35a94fb1-5591-4117-98f9-6115742398d6",
   "metadata": {},
   "outputs": [],
   "source": []
  }
 ],
 "metadata": {
  "kernelspec": {
   "display_name": "Python 3 (ipykernel)",
   "language": "python",
   "name": "python3"
  },
  "language_info": {
   "codemirror_mode": {
    "name": "ipython",
    "version": 3
   },
   "file_extension": ".py",
   "mimetype": "text/x-python",
   "name": "python",
   "nbconvert_exporter": "python",
   "pygments_lexer": "ipython3",
   "version": "3.11.7"
  }
 },
 "nbformat": 4,
 "nbformat_minor": 5
}
